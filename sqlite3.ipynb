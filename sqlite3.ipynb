{
 "cells": [
  {
   "cell_type": "code",
   "execution_count": 6,
   "id": "c0285a08-d3cc-438e-b18d-5d64fe5d1ac8",
   "metadata": {},
   "outputs": [],
   "source": [
    "import sqlite3"
   ]
  },
  {
   "cell_type": "code",
   "execution_count": 7,
   "id": "781c4aea-f67d-4c3b-940e-de915bae2335",
   "metadata": {},
   "outputs": [],
   "source": [
    "conn = sqlite3.connect('test.db')\n",
    "cursor = conn.cursor()"
   ]
  },
  {
   "cell_type": "code",
   "execution_count": 12,
   "id": "85a5cc1b-95cf-4e9b-abb6-02ccfa1c5b4d",
   "metadata": {},
   "outputs": [
    {
     "ename": "ProgrammingError",
     "evalue": "Cannot operate on a closed database.",
     "output_type": "error",
     "traceback": [
      "\u001b[31m---------------------------------------------------------------------------\u001b[39m",
      "\u001b[31mProgrammingError\u001b[39m                          Traceback (most recent call last)",
      "\u001b[36mCell\u001b[39m\u001b[36m \u001b[39m\u001b[32mIn[12]\u001b[39m\u001b[32m, line 1\u001b[39m\n\u001b[32m----> \u001b[39m\u001b[32m1\u001b[39m \u001b[43mcursor\u001b[49m\u001b[43m.\u001b[49m\u001b[43mexecute\u001b[49m\u001b[43m(\u001b[49m\u001b[33;43m'''\u001b[39;49m\n\u001b[32m      2\u001b[39m \u001b[33;43m    CREATE TABLE IF NOT EXISTS test (\u001b[39;49m\n\u001b[32m      3\u001b[39m \u001b[33;43m        id INTEGER,\u001b[39;49m\n\u001b[32m      4\u001b[39m \u001b[33;43m        name TEXT\u001b[39;49m\n\u001b[32m      5\u001b[39m \u001b[33;43m    )\u001b[39;49m\n\u001b[32m      6\u001b[39m \u001b[33;43m'''\u001b[39;49m\u001b[43m)\u001b[49m; \u001b[38;5;66;03m# Псс... точка с запятой после команды подавляет вывод возвращаемого функцией значения\u001b[39;00m\n",
      "\u001b[31mProgrammingError\u001b[39m: Cannot operate on a closed database."
     ]
    }
   ],
   "source": [
    "cursor.execute('''\n",
    "    CREATE TABLE IF NOT EXISTS test (\n",
    "        id INTEGER,\n",
    "        name TEXT\n",
    "    )\n",
    "'''); # Псс... точка с запятой после команды подавляет вывод возвращаемого функцией значения"
   ]
  },
  {
   "cell_type": "code",
   "execution_count": 9,
   "id": "1240099e-87d1-4e2b-9ea2-0c8c19213bdf",
   "metadata": {},
   "outputs": [],
   "source": [
    "cursor.execute('''\n",
    "    INSERT INTO test\n",
    "    VALUES (1, \"Alice\")\n",
    "''');"
   ]
  },
  {
   "cell_type": "code",
   "execution_count": 10,
   "id": "7a4904c5-445c-421f-b6d3-b09ec588e57f",
   "metadata": {},
   "outputs": [
    {
     "name": "stdout",
     "output_type": "stream",
     "text": [
      "(1, 'Alice')\n"
     ]
    }
   ],
   "source": [
    "cursor.execute('''\n",
    "    SELECT * FROM test\n",
    "''')\n",
    "\n",
    "for row in cursor.fetchall():\n",
    "    print(row)"
   ]
  },
  {
   "cell_type": "code",
   "execution_count": 11,
   "id": "dfbb4728-aaa9-4ffd-b5c6-03252c4e1bac",
   "metadata": {},
   "outputs": [],
   "source": [
    "conn.commit()\n",
    "conn.close()"
   ]
  },
  {
   "cell_type": "code",
   "execution_count": null,
   "id": "f492f993-101a-4448-ba45-881611a19581",
   "metadata": {},
   "outputs": [],
   "source": []
  }
 ],
 "metadata": {
  "kernelspec": {
   "display_name": "Python 3 (ipykernel)",
   "language": "python",
   "name": "python3"
  },
  "language_info": {
   "codemirror_mode": {
    "name": "ipython",
    "version": 3
   },
   "file_extension": ".py",
   "mimetype": "text/x-python",
   "name": "python",
   "nbconvert_exporter": "python",
   "pygments_lexer": "ipython3",
   "version": "3.12.3"
  }
 },
 "nbformat": 4,
 "nbformat_minor": 5
}
