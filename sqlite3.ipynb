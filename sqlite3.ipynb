{
 "cells": [
  {
   "cell_type": "code",
   "execution_count": 1,
   "id": "c0285a08-d3cc-438e-b18d-5d64fe5d1ac8",
   "metadata": {},
   "outputs": [],
   "source": [
    "import sqlite3"
   ]
  },
  {
   "cell_type": "code",
   "execution_count": 2,
   "id": "781c4aea-f67d-4c3b-940e-de915bae2335",
   "metadata": {},
   "outputs": [],
   "source": [
    "conn = sqlite3.connect('test.db')\n",
    "cursor = conn.cursor()"
   ]
  },
  {
   "cell_type": "code",
   "execution_count": 3,
   "id": "85a5cc1b-95cf-4e9b-abb6-02ccfa1c5b4d",
   "metadata": {},
   "outputs": [],
   "source": [
    "cursor.execute('''\n",
    "    CREATE TABLE IF NOT EXISTS test (\n",
    "        id INTEGER,\n",
    "        name TEXT\n",
    "    )\n",
    "''')\n",
    "\n",
    "cursor.execute('''\n",
    "    INSERT INTO test\n",
    "    VALUES (1, \"Alice\")\n",
    "''')\n",
    "\n",
    "conn.commit() # Все изменения нужно сохранить"
   ]
  },
  {
   "cell_type": "code",
   "execution_count": 4,
   "id": "7a4904c5-445c-421f-b6d3-b09ec588e57f",
   "metadata": {},
   "outputs": [
    {
     "name": "stdout",
     "output_type": "stream",
     "text": [
      "(1, 'Alice')\n"
     ]
    }
   ],
   "source": [
    "cursor.execute('''\n",
    "    SELECT * FROM test\n",
    "''')\n",
    "\n",
    "for row in cursor.fetchall():\n",
    "    print(row)"
   ]
  },
  {
   "cell_type": "code",
   "execution_count": 5,
   "id": "dfbb4728-aaa9-4ffd-b5c6-03252c4e1bac",
   "metadata": {},
   "outputs": [],
   "source": [
    "conn.close()"
   ]
  }
 ],
 "metadata": {
  "kernelspec": {
   "display_name": "Python 3 (ipykernel)",
   "language": "python",
   "name": "python3"
  },
  "language_info": {
   "codemirror_mode": {
    "name": "ipython",
    "version": 3
   },
   "file_extension": ".py",
   "mimetype": "text/x-python",
   "name": "python",
   "nbconvert_exporter": "python",
   "pygments_lexer": "ipython3",
   "version": "3.12.3"
  }
 },
 "nbformat": 4,
 "nbformat_minor": 5
}
